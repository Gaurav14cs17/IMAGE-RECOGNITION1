{
 "cells": [
  {
   "cell_type": "code",
   "execution_count": 4,
   "metadata": {},
   "outputs": [],
   "source": [
    "import cv2\n",
    "import os"
   ]
  },
  {
   "cell_type": "code",
   "execution_count": 5,
   "metadata": {},
   "outputs": [],
   "source": [
    "def extractFrames(pathIn, pathOut):\n",
    "    os.mkdir(pathOut)\n",
    "    cap = cv2.VideoCapture(pathIn)\n",
    "    count = 0\n",
    " \n",
    "    while (cap.isOpened()):\n",
    "        ret, frame = cap.read()\n",
    " \n",
    "        if ret == True:\n",
    "            print('Read %d frame: ' % count, ret)\n",
    "            cv2.imwrite(os.path.join(pathOut, \"frame{:d}.jpg\".format(count)), frame)  # save frame as JPEG file\n",
    "            count += 1\n",
    "        else:\n",
    "            break\n",
    "    cap.release()\n",
    "    cv2.destroyAllWindows()\n",
    " \n",
    "\n"
   ]
  },
  {
   "cell_type": "code",
   "execution_count": null,
   "metadata": {},
   "outputs": [],
   "source": [
    "extractFrames('E:/Image/h264_lossy_q30/03_forged_enc30.avi', '03_forged_enc30')\n",
    "extractFrames('E:/Image/h264_lossy_q30/03_original_enc30.avi', '03_original_enc30')\n",
    "\n",
    "extractFrames('E:/Image/h264_lossy_q30/04_forged_enc30.avi', '04_forged_enc30')\n",
    "extractFrames('E:/Image/h264_lossy_q30/04_original_enc30.avi', '04_original_enc30')\n",
    "\n",
    "extractFrames('E:/Image/h264_lossy_q30/05_forged_enc30.avi', '05_forged_enc30')\n",
    "extractFrames('E:/Image/h264_lossy_q30/05_original_enc30.avi', '05_original_enc30')\n",
    "\n",
    "\n",
    "extractFrames('E:/Image/h264_lossy_q30/06_forged_enc30.avi', '06_forged_enc30')\n",
    "extractFrames('E:/Image/h264_lossy_q30/06_original_enc30.avi', '06_original_enc30')\n",
    "\n",
    "extractFrames('E:/Image/h264_lossy_q30/07_forged_enc30.avi', '07_forged_enc30')\n",
    "extractFrames('E:/Image/h264_lossy_q30/07_original_enc30.avi', '07_original_enc30')\n",
    "\n",
    "extractFrames('E:/Image/h264_lossy_q30/08_forged_enc30.avi', '08_forged_enc30')\n",
    "extractFrames('E:/Image/h264_lossy_q30/08_original_enc30.avi', '08_original_enc30')\n",
    "\n",
    "extractFrames('E:/Image/h264_lossy_q30/09_forged_enc30.avi', '09_forged_enc30')\n",
    "extractFrames('E:/Image/h264_lossy_q30/09_original_enc30.avi', '09_original_enc30')\n",
    "\n",
    "extractFrames('E:/Image/h264_lossy_q30/10_forged_enc30.avi', '10_forged_enc30')\n",
    "extractFrames('E:/Image/h264_lossy_q30/10_original_enc30.avi', '10_original_enc30')\n",
    "\n",
    "      \n",
    " \n"
   ]
  }
 ],
 "metadata": {
  "kernelspec": {
   "display_name": "Python 3",
   "language": "python",
   "name": "python3"
  },
  "language_info": {
   "codemirror_mode": {
    "name": "ipython",
    "version": 3
   },
   "file_extension": ".py",
   "mimetype": "text/x-python",
   "name": "python",
   "nbconvert_exporter": "python",
   "pygments_lexer": "ipython3",
   "version": "3.5.5"
  },
  "widgets": {
   "state": {},
   "version": "1.1.2"
  }
 },
 "nbformat": 4,
 "nbformat_minor": 2
}
